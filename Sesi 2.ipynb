{
 "cells": [
  {
   "cell_type": "markdown",
   "id": "32926d4e",
   "metadata": {},
   "source": [
    "**Sesi 2 Introduction python for data science Hacktive8**"
   ]
  },
  {
   "cell_type": "markdown",
   "id": "b7010dcb",
   "metadata": {},
   "source": [
    "if <'expression'> : <br>\n",
    "  <'statement'> <br>\n",
    "\n",
    "Statement bisa dalam 1 baris dengan pemisah berupa titik koma $(;)$"
   ]
  },
  {
   "cell_type": "code",
   "execution_count": 1,
   "id": "111aa3b2",
   "metadata": {},
   "outputs": [
    {
     "name": "stdout",
     "output_type": "stream",
     "text": [
      "yes\n",
      "no\n",
      "benar\n",
      "x < 8\n",
      "hoo\n"
     ]
    }
   ],
   "source": [
    " #If else\n",
    " x = 0\n",
    " y = 5\n",
    " z = 2\n",
    "\n",
    " if x < y :\n",
    "   print('yes')\n",
    "if z > y :\n",
    "   print('yes')\n",
    "print('no')\n",
    "if x < z :\n",
    "  print('benar')\n",
    "  if x > 8 :\n",
    "    print('betul')\n",
    "    if x > y :\n",
    "      print ('ya')\n",
    "    else :\n",
    "      print ('x < y')\n",
    "  else : \n",
    "    print ('x < 8')\n",
    "else :\n",
    "  print ('x > z')\n",
    "\n",
    "if 'foo' in ['bar', 'foo', 'yes'] :\n",
    "  print('hoo')"
   ]
  },
  {
   "cell_type": "code",
   "execution_count": 2,
   "id": "b8b0cd18",
   "metadata": {},
   "outputs": [
    {
     "name": "stdout",
     "output_type": "stream",
     "text": [
      "mahal\n"
     ]
    }
   ],
   "source": [
    "harga_jeruk = 5000\n",
    "standar_harga = 3000\n",
    "\n",
    "if harga_jeruk > standar_harga :\n",
    "  print('mahal')\n",
    "elif harga_jeruk < standar_harga :\n",
    "  print('murah')"
   ]
  },
  {
   "cell_type": "markdown",
   "id": "ae2bb544",
   "metadata": {},
   "source": [
    "input itu defaultnya string"
   ]
  },
  {
   "cell_type": "code",
   "execution_count": 3,
   "id": "14fecd5e",
   "metadata": {},
   "outputs": [
    {
     "name": "stdout",
     "output_type": "stream",
     "text": [
      "4\n",
      "murah\n"
     ]
    }
   ],
   "source": [
    "harga_jeruk = int(input())\n",
    "standar_harga = 3000\n",
    "\n",
    "if harga_jeruk > standar_harga :\n",
    "  print('mahal')\n",
    "elif harga_jeruk < standar_harga :\n",
    "  print('murah')"
   ]
  },
  {
   "cell_type": "code",
   "execution_count": 4,
   "id": "674e3d02",
   "metadata": {},
   "outputs": [
    {
     "name": "stdout",
     "output_type": "stream",
     "text": [
      "23\n",
      "Total belanja anda di diskon 5%\n",
      "Total belanja anda adalah 69000\n"
     ]
    }
   ],
   "source": [
    "Berapa_pisang_yang_ingin_dibeli = int(input())\n",
    "pisang = 3000\n",
    "Total_belanja = Berapa_pisang_yang_ingin_dibeli*pisang\n",
    "if Total_belanja > 100000 :\n",
    "  Total_belanja == Total_belanja - Total_belanja*(0.1)\n",
    "  print('Total belanja anda di diskon 10%')\n",
    "elif  Total_belanja > 50000 :\n",
    "  Total_belanja == Total_belanja - Total_belanja*(0.05)\n",
    "  print('Total belanja anda di diskon 5%')\n",
    "else :\n",
    "  print('Belanja anda tidak di diskon')\n",
    "print('Total belanja anda adalah', Total_belanja)"
   ]
  },
  {
   "cell_type": "code",
   "execution_count": 5,
   "id": "49037445",
   "metadata": {},
   "outputs": [
    {
     "name": "stdout",
     "output_type": "stream",
     "text": [
      "Masukkan jumlah pisang yang ingin dibeli: 22\n",
      "Anda mendapatkan diskon 5% sebesar 3300.0\n",
      "Total yang harus dibayar adalah 62700.0\n",
      "Anda membeli 22 buah pisang.\n"
     ]
    }
   ],
   "source": [
    "#kuis\n",
    "harga_pisang = 3000\n",
    "jumlah_pisang = int(input(\"Masukkan jumlah pisang yang ingin dibeli: \"))\n",
    "\n",
    "total_pembelian = harga_pisang * jumlah_pisang\n",
    "\n",
    "if total_pembelian >= 100000:\n",
    "    diskon = 0.1 * total_pembelian\n",
    "    total_bayar = total_pembelian - diskon\n",
    "    print(\"Anda mendapatkan diskon 10% sebesar\", diskon)\n",
    "    print(\"Total yang harus dibayar adalah\", total_bayar)\n",
    "    \n",
    "elif total_pembelian >= 50000:\n",
    "    diskon = 0.05 * total_pembelian\n",
    "    total_bayar = total_pembelian - diskon\n",
    "    print(\"Anda mendapatkan diskon 5% sebesar\", diskon)\n",
    "    print(\"Total yang harus dibayar adalah\", total_bayar)\n",
    "\n",
    "else:\n",
    "    total_bayar = total_pembelian\n",
    "    print(\"Total yang harus dibayar adalah\", total_bayar)\n",
    "    \n",
    "print(\"Anda membeli\", jumlah_pisang, \"buah pisang.\")"
   ]
  },
  {
   "cell_type": "code",
   "execution_count": 6,
   "id": "4c783e75",
   "metadata": {},
   "outputs": [
    {
     "name": "stdout",
     "output_type": "stream",
     "text": [
      "Berapa gaji anda: 12\n",
      "Berapa lama anda kerja: 2\n",
      "Gaji anda 12 Anda tidak dapat tambahan gaji\n"
     ]
    }
   ],
   "source": [
    "gaji = int(input(\"Berapa gaji anda: \"))\n",
    "waktu_kerja = int(input(\"Berapa lama anda kerja: \"))\n",
    "if waktu_kerja > 10 :\n",
    "  tambahan = 0.1 * gaji\n",
    "  total_gaji = gaji + tambahan\n",
    "  print('Selamat anda mendapatkan gaji sebesar', total_gaji, 'tambahan gaji 10%')\n",
    "else :\n",
    "  print('Gaji anda', gaji, 'Anda tidak dapat tambahan gaji')"
   ]
  },
  {
   "cell_type": "markdown",
   "id": "b570106c",
   "metadata": {},
   "source": [
    "Looping <br>\n",
    "Bedanya while dan for loop <br>\n",
    "while : selama masih true dia akan terus berjalan, looping yang tidak iterable <br>\n",
    "for : looping iterable dan ngecek satu-satu <br>\n",
    "iterable : list, tuple, string, dictionary, dll"
   ]
  },
  {
   "cell_type": "code",
   "execution_count": 7,
   "id": "e90fd924",
   "metadata": {},
   "outputs": [
    {
     "name": "stdout",
     "output_type": "stream",
     "text": [
      "4\n",
      "3\n",
      "2\n",
      "1\n",
      "0\n"
     ]
    }
   ],
   "source": [
    "n = 5\n",
    "while n > 0:\n",
    "  n -= 1      #kalo ga ditambahin dia akan looping terus\n",
    "  print(n)"
   ]
  },
  {
   "cell_type": "code",
   "execution_count": 8,
   "id": "577afb9b",
   "metadata": {},
   "outputs": [
    {
     "name": "stdout",
     "output_type": "stream",
     "text": [
      "Udah mau abis nih\n",
      "Udah mau abis nih\n"
     ]
    }
   ],
   "source": [
    "n = 5\n",
    "while n > 0 :\n",
    "  n -= 1\n",
    "  if n > 2 :\n",
    "    print ('Udah mau abis nih')\n",
    "  else :\n",
    "    break"
   ]
  },
  {
   "cell_type": "markdown",
   "id": "653ebb6d",
   "metadata": {},
   "source": [
    "Nested atau percabangan berantai berlaku untuk if dan while <br>\n",
    "pass berlaku untuk if sedangkan continue untuk loop"
   ]
  },
  {
   "cell_type": "code",
   "execution_count": 9,
   "id": "bf08e1d3",
   "metadata": {},
   "outputs": [
    {
     "name": "stdout",
     "output_type": "stream",
     "text": [
      "berapa umur anda :20\n",
      "father\n"
     ]
    }
   ],
   "source": [
    "age = int(input('berapa umur anda :'))\n",
    "gender = 'M'\n",
    "if age < 18 :\n",
    "  if gender == 'M':\n",
    "    print('son')\n",
    "  else :\n",
    "    print('daughter')\n",
    "elif age >= 18 and age <65 :\n",
    "  if gender == 'M' :\n",
    "    print('father')\n",
    "  else :\n",
    "    print('mother')\n",
    "else : \n",
    "  if gender == 'M' :\n",
    "    print('grandfather')\n",
    "  else :\n",
    "    print('grandmother')"
   ]
  },
  {
   "cell_type": "code",
   "execution_count": 10,
   "id": "d72ae5c2",
   "metadata": {},
   "outputs": [
    {
     "name": "stdout",
     "output_type": "stream",
     "text": [
      "19\n",
      "17\n",
      "15\n",
      "13\n",
      "11\n",
      "9\n",
      "7\n",
      "5\n",
      "3\n",
      "1\n"
     ]
    }
   ],
   "source": [
    "n = 20\n",
    "while n > 0 :\n",
    "  n -= 1\n",
    "  if n%2 == 1 :\n",
    "    print(n)"
   ]
  },
  {
   "cell_type": "code",
   "execution_count": 11,
   "id": "021296e1",
   "metadata": {},
   "outputs": [
    {
     "name": "stdout",
     "output_type": "stream",
     "text": [
      "1\n",
      "genap\n",
      "3\n",
      "genap\n",
      "5\n",
      "genap\n",
      "7\n",
      "genap\n",
      "9\n",
      "genap\n",
      "11\n",
      "genap\n",
      "13\n",
      "genap\n",
      "15\n",
      "genap\n",
      "17\n",
      "genap\n",
      "19\n",
      "genap\n",
      "21\n"
     ]
    }
   ],
   "source": [
    "n = 0\n",
    "while n < 21 :\n",
    "  n += 1\n",
    "  if n % 2 == 1 :\n",
    "    print (n)\n",
    "  else :\n",
    "    print('genap')"
   ]
  },
  {
   "cell_type": "code",
   "execution_count": 12,
   "id": "24bcaeb3",
   "metadata": {},
   "outputs": [
    {
     "name": "stdout",
     "output_type": "stream",
     "text": [
      "mau berapa tingginya :3\n",
      "*\n",
      "**\n",
      "***\n"
     ]
    }
   ],
   "source": [
    "tinggi_segitiga = int(input('mau berapa tingginya :'))\n",
    "\n",
    "\n",
    "for i in range (tinggi_segitiga) :\n",
    "  print('' *(tinggi_segitiga-i), end='')\n",
    "  print('*'*(i+1))"
   ]
  }
 ],
 "metadata": {
  "kernelspec": {
   "display_name": "Python 3 (ipykernel)",
   "language": "python",
   "name": "python3"
  },
  "language_info": {
   "codemirror_mode": {
    "name": "ipython",
    "version": 3
   },
   "file_extension": ".py",
   "mimetype": "text/x-python",
   "name": "python",
   "nbconvert_exporter": "python",
   "pygments_lexer": "ipython3",
   "version": "3.9.13"
  }
 },
 "nbformat": 4,
 "nbformat_minor": 5
}
