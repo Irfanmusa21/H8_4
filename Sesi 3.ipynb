{
 "cells": [
  {
   "cell_type": "markdown",
   "id": "a97d9904",
   "metadata": {},
   "source": [
    "**Sesi 3 Introduction python for data science Hacktive8**"
   ]
  },
  {
   "cell_type": "code",
   "execution_count": 1,
   "id": "16cf0edd",
   "metadata": {},
   "outputs": [
    {
     "name": "stdout",
     "output_type": "stream",
     "text": [
      "18\n"
     ]
    }
   ],
   "source": [
    "def luas_persegi_panjang (p,l) :\n",
    "  \"fungsi untuk menghitung luas\"\n",
    "  print(p*l)\n",
    "  return;\n",
    "luas_persegi_panjang(3,6)"
   ]
  },
  {
   "cell_type": "code",
   "execution_count": 2,
   "id": "4ead25ec",
   "metadata": {},
   "outputs": [
    {
     "name": "stdout",
     "output_type": "stream",
     "text": [
      "Aku adalah saya\n",
      "Saya adalah aku\n"
     ]
    }
   ],
   "source": [
    "def printme (str) :\n",
    "  print(str)\n",
    "  return;\n",
    "printme (\"Aku adalah saya\")\n",
    "printme (\"Saya adalah aku\")"
   ]
  },
  {
   "cell_type": "code",
   "execution_count": 3,
   "id": "2fdd6700",
   "metadata": {},
   "outputs": [
    {
     "name": "stdout",
     "output_type": "stream",
     "text": [
      "nilai didalam fungsi :  [10, 20, 30, [1, 2, 3, 4]]\n",
      "nilai diluar fungsi : [10, 20, 30, [1, 2, 3, 4]]\n"
     ]
    }
   ],
   "source": [
    "def changeme (mylist) :\n",
    "  mylist.append([1,2,3,4]); #ditambah (append)\n",
    "  print(\"nilai didalam fungsi : \", mylist)\n",
    "  return\n",
    "mylist = [10,20,30];\n",
    "changeme (mylist);\n",
    "print(\"nilai diluar fungsi :\", mylist)"
   ]
  },
  {
   "cell_type": "code",
   "execution_count": 4,
   "id": "c4a64563",
   "metadata": {},
   "outputs": [
    {
     "name": "stdout",
     "output_type": "stream",
     "text": [
      "Jumlah angka ganjil ialah  5\n",
      "Jumlah angka genap ialah  7\n",
      "Jumlah total angka ganjil ialah  262\n",
      "Jumlah total angka genap ialah  267\n"
     ]
    }
   ],
   "source": [
    "#Kuis 2\n",
    "\n",
    "mylist = [31,23,31,67,91,11,13,40,50,74,88,10];\n",
    "\n",
    "def fungsi(mylist) :\n",
    "  a = 0\n",
    "  b = 0\n",
    "  c = 0\n",
    "  d = 0\n",
    "  for i in mylist :\n",
    "    if i%2==0 :\n",
    "      a += 1\n",
    "      c += i\n",
    "    else :\n",
    "      b += 1\n",
    "      d += i\n",
    "  print ('Jumlah angka ganjil ialah ', a)\n",
    "  print ('Jumlah angka genap ialah ', b)\n",
    "  print ('Jumlah total angka ganjil ialah ', c)\n",
    "  print ('Jumlah total angka genap ialah ', d)\n",
    "\n",
    "fungsi(mylist)"
   ]
  },
  {
   "cell_type": "code",
   "execution_count": 6,
   "id": "9930b850",
   "metadata": {},
   "outputs": [
    {
     "data": {
      "text/plain": [
       "'nakam uam ayas'"
      ]
     },
     "execution_count": 6,
     "metadata": {},
     "output_type": "execute_result"
    }
   ],
   "source": [
    "def str_joiner(a,b,c):\n",
    "    a  = a.lower()\n",
    "    b = b.lower()\n",
    "    c = c.lower()\n",
    "    return (a+ ' '+b+' '+c)[::-1]\n",
    "str_joiner('Saya','Mau','Makan')"
   ]
  },
  {
   "cell_type": "code",
   "execution_count": 7,
   "id": "e2be4e1f",
   "metadata": {},
   "outputs": [
    {
     "name": "stdout",
     "output_type": "stream",
     "text": [
      "20\n",
      "3\n"
     ]
    }
   ],
   "source": [
    "total = 20 #Variabel Global\n",
    "\n",
    "def function_a(a,b):\n",
    "    total = a+b #variabel lokal\n",
    "    print(total)\n",
    "\n",
    "print(total)\n",
    "function_a(1,2)"
   ]
  },
  {
   "cell_type": "code",
   "execution_count": 9,
   "id": "922a3608",
   "metadata": {},
   "outputs": [
    {
     "name": "stdout",
     "output_type": "stream",
     "text": [
      "7\n",
      "5\n",
      "267\n",
      "262\n"
     ]
    }
   ],
   "source": [
    "mylist = [31,23,31,40,50,67,74,88,91,10,11,13]\n",
    "\n",
    "def list_summary(lst):\n",
    "    nGenap = 0 #placeholder n angka genap\n",
    "    nGanjil = 0\n",
    "    sumGenap = 0\n",
    "    sumGanjil = 0\n",
    "    for i in lst:\n",
    "        if i % 2 == 0 : # untuk filter angka genap\n",
    "            nGenap +=1\n",
    "            sumGenap +=i\n",
    "        else: # untuk filter angka ganjil\n",
    "            nGanjil +=1\n",
    "            sumGanjil +=i\n",
    "    print(nGanjil)\n",
    "    print(nGenap)\n",
    "    print(sumGanjil)\n",
    "    print(sumGenap)\n",
    "    \n",
    "list_summary(mylist)"
   ]
  },
  {
   "cell_type": "code",
   "execution_count": 12,
   "id": "29d48931",
   "metadata": {},
   "outputs": [
    {
     "name": "stdout",
     "output_type": "stream",
     "text": [
      "Nama : Agus\n",
      "Umur : 26\n"
     ]
    }
   ],
   "source": [
    "#default argument\n",
    "def print_info(name, age=26) :\n",
    "  print('Nama :', name)\n",
    "  print('Umur :', age)\n",
    "print_info('Agus')"
   ]
  },
  {
   "cell_type": "code",
   "execution_count": 15,
   "id": "ba3851c9",
   "metadata": {},
   "outputs": [],
   "source": [
    "#variable length arguments\n",
    "def printinfo(x, *vartuple):\n",
    "    print('Output is :')\n",
    "    print(x)\n",
    "    print(vartuple)\n",
    "    print(type(vartuple))"
   ]
  },
  {
   "cell_type": "code",
   "execution_count": 16,
   "id": "9119a810",
   "metadata": {},
   "outputs": [
    {
     "name": "stdout",
     "output_type": "stream",
     "text": [
      "Output is :\n",
      "8\n",
      "(9, 20, 30, 'Nama', 90, 100, 11)\n",
      "<class 'tuple'>\n"
     ]
    }
   ],
   "source": [
    "printinfo(8,9,20,30,'Nama',90,100,11)"
   ]
  },
  {
   "cell_type": "code",
   "execution_count": 17,
   "id": "55eec7df",
   "metadata": {},
   "outputs": [
    {
     "name": "stdout",
     "output_type": "stream",
     "text": [
      "3\n"
     ]
    }
   ],
   "source": [
    "def sum(x,y):\n",
    "    return x + y\n",
    "print(sum(1,2))"
   ]
  },
  {
   "cell_type": "code",
   "execution_count": 18,
   "id": "284e4da0",
   "metadata": {},
   "outputs": [
    {
     "name": "stdout",
     "output_type": "stream",
     "text": [
      "15\n"
     ]
    }
   ],
   "source": [
    "perkalian = lambda x,y:x*y\n",
    "print(perkalian(3,5))"
   ]
  },
  {
   "cell_type": "code",
   "execution_count": 22,
   "id": "c704b9eb",
   "metadata": {},
   "outputs": [],
   "source": [
    "import numpy as np"
   ]
  },
  {
   "cell_type": "code",
   "execution_count": 20,
   "id": "e423d4d8",
   "metadata": {},
   "outputs": [
    {
     "data": {
      "text/plain": [
       "3.0"
      ]
     },
     "execution_count": 20,
     "metadata": {},
     "output_type": "execute_result"
    }
   ],
   "source": [
    "np.sqrt(9)"
   ]
  }
 ],
 "metadata": {
  "kernelspec": {
   "display_name": "Python 3 (ipykernel)",
   "language": "python",
   "name": "python3"
  },
  "language_info": {
   "codemirror_mode": {
    "name": "ipython",
    "version": 3
   },
   "file_extension": ".py",
   "mimetype": "text/x-python",
   "name": "python",
   "nbconvert_exporter": "python",
   "pygments_lexer": "ipython3",
   "version": "3.9.13"
  }
 },
 "nbformat": 4,
 "nbformat_minor": 5
}
