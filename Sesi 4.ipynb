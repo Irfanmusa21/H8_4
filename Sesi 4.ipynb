{
 "cells": [
  {
   "cell_type": "markdown",
   "id": "c3b187f4",
   "metadata": {},
   "source": [
    "**Sesi 4 Introduction python for data science Hacktive8**"
   ]
  },
  {
   "cell_type": "code",
   "execution_count": 3,
   "id": "e56da36e",
   "metadata": {},
   "outputs": [],
   "source": [
    "import numpy as np"
   ]
  },
  {
   "cell_type": "code",
   "execution_count": 5,
   "id": "0b23679f",
   "metadata": {},
   "outputs": [
    {
     "name": "stdout",
     "output_type": "stream",
     "text": [
      "Masukkan angka pertama: 4\n",
      "Masukkan pilihan operator: -\n",
      "Masukkan angka kedua: 2\n",
      "4 - 2 = 2\n"
     ]
    }
   ],
   "source": [
    "#Kuis 1\n",
    "def tambah(a, b):\n",
    "    return a + b\n",
    "\n",
    "def kurang(a, b):\n",
    "    return a - b\n",
    "\n",
    "def kali(a, b):\n",
    "    return a * b\n",
    "\n",
    "def bagi(a, b):\n",
    "    return a / b\n",
    "\n",
    "def pangkat(a, b):\n",
    "    return a ** b\n",
    "\n",
    "while True:\n",
    "    try:\n",
    "        angka1 = int(input(\"Masukkan angka pertama: \"))\n",
    "        break\n",
    "    except ValueError:\n",
    "        print(\"Input salah\")\n",
    "\n",
    "operator = input(\"Masukkan pilihan operator: \")\n",
    "\n",
    "while True:\n",
    "    try:\n",
    "        angka2 = int(input(\"Masukkan angka kedua: \"))\n",
    "        break\n",
    "    except ValueError:\n",
    "        print(\"Input salah\")\n",
    "\n",
    "if operator == '+':\n",
    "    print(angka1, '+', angka2, '=', tambah(angka1, angka2))\n",
    "elif operator == '-':\n",
    "    print(angka1, '-', angka2, '=', kurang(angka1, angka2))\n",
    "elif operator == 'x':\n",
    "    print(angka1, 'x', angka2, '=', kali(angka1, angka2))\n",
    "elif operator == ':':\n",
    "    print(angka1, ':', angka2, '=', bagi(angka1, angka2))\n",
    "elif operator == '^':\n",
    "    print(angka1, '^', angka2, '=', pangkat(angka1, angka2))\n",
    "else:\n",
    "    print(\"Operator\", operator, \"tidak ditemukan\")"
   ]
  },
  {
   "cell_type": "code",
   "execution_count": 4,
   "id": "de3a7c6c",
   "metadata": {},
   "outputs": [
    {
     "data": {
      "text/plain": [
       "array([1, 2, 3])"
      ]
     },
     "execution_count": 4,
     "metadata": {},
     "output_type": "execute_result"
    }
   ],
   "source": [
    "c = np.array([1,2,3])\n",
    "c"
   ]
  },
  {
   "cell_type": "markdown",
   "id": "3c4c254a",
   "metadata": {},
   "source": [
    "fitur buat numpy <br>\n",
    "np.array <br>\n",
    "np.zeros <br>\n",
    "np.empty <br>\n",
    "np.random <br>\n",
    "np.arrange( , , ) <br>\n",
    "np.append <br>\n",
    "np.delete <br>\n",
    "np.sort <br>\n",
    "n.dim *buat ukuran dimensi <br>\n",
    ".size * jumlah elemen di array <br>\n",
    ".reshape () <br> \n",
    "np.newaxis <br>\n",
    "np.vstack <br>\n",
    "np.expand_dims <br>"
   ]
  },
  {
   "cell_type": "code",
   "execution_count": 6,
   "id": "55171cb8",
   "metadata": {},
   "outputs": [
    {
     "name": "stdout",
     "output_type": "stream",
     "text": [
      "(1, 3)\n",
      "(3,)\n",
      "[ 2  5  8 11 14 17 20 23]\n",
      "[4]\n",
      "[[[2 3 4]]]\n",
      "[[2 3 4]]\n"
     ]
    }
   ],
   "source": [
    "b = np.array ([[2, 3, 4]]) \n",
    "c = np.array ([2, 3, 4]) #terhitung 3 baris dan 1 kolom\n",
    "print(b.shape)\n",
    "print(c.shape)\n",
    "np.arange(2,24,3)\n",
    "print(np.arange(2,24,3))\n",
    "np.vstack([b,c])\n",
    "d = np.expand_dims(b,axis=1)\n",
    "e = np.expand_dims(c,axis=0)\n",
    "print(b[b>3])\n",
    "print(d)\n",
    "print(e)"
   ]
  },
  {
   "cell_type": "code",
   "execution_count": 9,
   "id": "a57850d5",
   "metadata": {},
   "outputs": [
    {
     "name": "stdout",
     "output_type": "stream",
     "text": [
      "Mau mulai dari berapa bintang nih ? 6\n",
      "* * * * * \n",
      "  * * * \n",
      "    * \n",
      "  * * * \n",
      "* * * * * \n"
     ]
    }
   ],
   "source": [
    "n=int(input('Mau mulai dari berapa bintang nih ? '))\n",
    "t=0\n",
    "\n",
    "if n%2==0:\n",
    "   t=n-1\n",
    "else:\n",
    "   t=n\n",
    "\n",
    "for i in range(0,t):\n",
    "   if (t-2*i)>0: \n",
    "      print('  '*i+'* '*(t-2*i))\n",
    "   else:\n",
    "      k=t-i-1\n",
    "      print('  '*k+'* '*(t-2*k))"
   ]
  },
  {
   "cell_type": "code",
   "execution_count": 11,
   "id": "255b8d39",
   "metadata": {},
   "outputs": [
    {
     "name": "stdout",
     "output_type": "stream",
     "text": [
      "Stack secara Vertikal\n",
      "[[ 3  4  5  6  7]\n",
      " [ 7  8  9 10 11]]\n",
      "Stack secara Horizontal\n",
      "[ 3  4  5  6  7  7  8  9 10 11]\n"
     ]
    }
   ],
   "source": [
    "#stack\n",
    "array_14 = np.array([3,4,5,6,7])\n",
    "array_15 = np.array([7,8,9,10,11])\n",
    "print('Stack secara Vertikal')\n",
    "print(np.vstack([array_14,array_15]))\n",
    "print('Stack secara Horizontal')\n",
    "print(np.hstack([array_14,array_15]))"
   ]
  },
  {
   "cell_type": "code",
   "execution_count": 12,
   "id": "e38b66d3",
   "metadata": {},
   "outputs": [
    {
     "data": {
      "text/plain": [
       "[array([3, 4, 5]), array([6, 7, 8])]"
      ]
     },
     "execution_count": 12,
     "metadata": {},
     "output_type": "execute_result"
    }
   ],
   "source": [
    "#hsplit\n",
    "array_16 = np.array([3,4,5,6,7,8])\n",
    "array_split = np.hsplit(array_16,2)\n",
    "(array_split)"
   ]
  },
  {
   "cell_type": "code",
   "execution_count": 13,
   "id": "b38a3f06",
   "metadata": {},
   "outputs": [
    {
     "name": "stdout",
     "output_type": "stream",
     "text": [
      "(2, 4)\n",
      "Horizontal Split\n",
      "[array([[1, 2],\n",
      "       [4, 5]]), array([[3, 4],\n",
      "       [6, 7]])]\n",
      "Vertical Split\n",
      "[array([[1, 2, 3, 4]]), array([[4, 5, 6, 7]])]\n"
     ]
    }
   ],
   "source": [
    "#vsplit\n",
    "array_19 = np.array([[1,2,3,4],[4,5,6,7]])\n",
    "print(array_19.shape)\n",
    "print('Horizontal Split')\n",
    "print(np.hsplit(array_19,2))\n",
    "print('Vertical Split')\n",
    "print(np.vsplit(array_19,2))"
   ]
  },
  {
   "cell_type": "code",
   "execution_count": 14,
   "id": "83a2da13",
   "metadata": {},
   "outputs": [
    {
     "name": "stdout",
     "output_type": "stream",
     "text": [
      "[4 6 8]\n"
     ]
    }
   ],
   "source": [
    "array_a = np.array([1,2,3])\n",
    "array_b = np.array([3,4,5])\n",
    "print(array_a+array_b)"
   ]
  },
  {
   "cell_type": "code",
   "execution_count": 15,
   "id": "36efbd65",
   "metadata": {},
   "outputs": [
    {
     "name": "stdout",
     "output_type": "stream",
     "text": [
      "6\n",
      "21\n",
      "[5 7 9]\n"
     ]
    }
   ],
   "source": [
    "array_a = np.array([1,2,3])\n",
    "array_b = np.array([3,4,5])\n",
    "array_c = np.array([[1,2,3],[4,5,6]])\n",
    "array_d = np.array([[6,7,8],[9,10,11]])\n",
    "print(array_a.sum())\n",
    "print(array_c.sum())\n",
    "print(array_c.sum(axis=0))"
   ]
  },
  {
   "cell_type": "code",
   "execution_count": 16,
   "id": "6ac6b046",
   "metadata": {},
   "outputs": [
    {
     "name": "stdout",
     "output_type": "stream",
     "text": [
      "[[1 2 3]\n",
      " [4 5 6]]\n",
      "[5 7 9]\n",
      "[ 6 15]\n"
     ]
    }
   ],
   "source": [
    "array_c = np.array([[1,2,3],[4,5,6]])\n",
    "print(array_c)\n",
    "print(array_c.sum(axis=0))\n",
    "print(array_c.sum(axis=1))"
   ]
  },
  {
   "cell_type": "code",
   "execution_count": 17,
   "id": "dacd4975",
   "metadata": {},
   "outputs": [
    {
     "name": "stdout",
     "output_type": "stream",
     "text": [
      "3\n",
      "6\n",
      "[[5 2 3]\n",
      " [4 5 6]]\n",
      "[5 5 6]\n",
      "[4 2 3]\n"
     ]
    }
   ],
   "source": [
    "array_a = np.array([1,2,3])\n",
    "array_b = np.array([3,4,5])\n",
    "array_c = np.array([[5,2,3],[4,5,6]])\n",
    "print(array_a.max())\n",
    "print(array_c.max())\n",
    "print(array_c)\n",
    "print(array_c.max(axis=0))\n",
    "print(array_c.min(axis=0))"
   ]
  },
  {
   "cell_type": "markdown",
   "id": "a1f8059a",
   "metadata": {},
   "source": [
    ".T untuk mentrasnpose"
   ]
  },
  {
   "cell_type": "code",
   "execution_count": 18,
   "id": "e796c81b",
   "metadata": {},
   "outputs": [
    {
     "name": "stdout",
     "output_type": "stream",
     "text": [
      "[[5 4]\n",
      " [2 5]\n",
      " [3 6]]\n",
      "(3, 2)\n"
     ]
    }
   ],
   "source": [
    "print(array_c.T)\n",
    "print(array_c.T.shape)"
   ]
  },
  {
   "cell_type": "code",
   "execution_count": 23,
   "id": "de5af3c0",
   "metadata": {},
   "outputs": [
    {
     "name": "stdout",
     "output_type": "stream",
     "text": [
      "[[0.38446897 0.34244482]\n",
      " [0.65077083 0.25351737]\n",
      " [0.17556179 0.68890987]\n",
      " [0.50839576 0.84174345]\n",
      " [0.99227343 0.17468981]\n",
      " [0.50155769 0.43160944]\n",
      " [0.63901574 0.50240907]\n",
      " [0.97748631 0.57372321]\n",
      " [0.52956155 0.71941643]\n",
      " [0.95303531 0.87309179]\n",
      " [0.25725512 0.17163438]\n",
      " [0.82141128 0.70737983]]\n"
     ]
    }
   ],
   "source": [
    "array_random = np.random.random([12,2])\n",
    "print(array_random)"
   ]
  },
  {
   "cell_type": "code",
   "execution_count": 26,
   "id": "825054cb",
   "metadata": {},
   "outputs": [
    {
     "data": {
      "text/plain": [
       "169"
      ]
     },
     "execution_count": 26,
     "metadata": {},
     "output_type": "execute_result"
    }
   ],
   "source": [
    "np.square(13)"
   ]
  },
  {
   "cell_type": "code",
   "execution_count": 27,
   "id": "f308cb1b",
   "metadata": {},
   "outputs": [
    {
     "data": {
      "text/plain": [
       "2.8284271247461903"
      ]
     },
     "execution_count": 27,
     "metadata": {},
     "output_type": "execute_result"
    }
   ],
   "source": [
    "np.sqrt(8)"
   ]
  },
  {
   "cell_type": "code",
   "execution_count": 28,
   "id": "47138474",
   "metadata": {},
   "outputs": [
    {
     "name": "stdout",
     "output_type": "stream",
     "text": [
      "13.815510557964274\n"
     ]
    }
   ],
   "source": [
    "a = np.log(1000000)\n",
    "print(a)"
   ]
  },
  {
   "cell_type": "code",
   "execution_count": 29,
   "id": "99871093",
   "metadata": {},
   "outputs": [
    {
     "data": {
      "text/plain": [
       "999999.9999999995"
      ]
     },
     "execution_count": 29,
     "metadata": {},
     "output_type": "execute_result"
    }
   ],
   "source": [
    "np.exp(a)"
   ]
  },
  {
   "cell_type": "code",
   "execution_count": 10,
   "id": "dd4d4189",
   "metadata": {},
   "outputs": [
    {
     "name": "stdout",
     "output_type": "stream",
     "text": [
      "Masukkan nilai awal : 12\n",
      "Masukkan nilai akhir : 89\n",
      "[13, 17, 19, 23, 29, 31, 37, 41, 43, 47, 53, 59, 61, 67, 71, 73, 79, 83, 89]\n"
     ]
    }
   ],
   "source": [
    "def bil_prima(awal, akhir):\n",
    "    prima = []\n",
    "    for i in range(awal, akhir + 1):\n",
    "        if i > 1:\n",
    "            for j in range(2, i):\n",
    "                if (i % j) == 0:\n",
    "                    break\n",
    "            else:\n",
    "                prima.append(i)\n",
    "    return prima\n",
    "awal = int(input(\"Masukkan nilai awal : \"))\n",
    "akhir = int(input(\"Masukkan nilai akhir : \"))\n",
    "print(bil_prima(awal,akhir))"
   ]
  }
 ],
 "metadata": {
  "kernelspec": {
   "display_name": "Python 3 (ipykernel)",
   "language": "python",
   "name": "python3"
  },
  "language_info": {
   "codemirror_mode": {
    "name": "ipython",
    "version": 3
   },
   "file_extension": ".py",
   "mimetype": "text/x-python",
   "name": "python",
   "nbconvert_exporter": "python",
   "pygments_lexer": "ipython3",
   "version": "3.9.13"
  }
 },
 "nbformat": 4,
 "nbformat_minor": 5
}
