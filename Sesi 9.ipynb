{
 "cells": [
  {
   "cell_type": "markdown",
   "id": "6be51707",
   "metadata": {},
   "source": [
    "**Sesi 9 Introduction python for data science Hacktive8**"
   ]
  },
  {
   "cell_type": "code",
   "execution_count": 40,
   "id": "c6d2e9e4",
   "metadata": {},
   "outputs": [],
   "source": [
    "import numpy as np\n",
    "import pandas as pd\n",
    "import math\n",
    "import statistics\n",
    "import scipy.stats\n",
    "from IPython.display import Math, Latex"
   ]
  },
  {
   "cell_type": "markdown",
   "id": "2aa3a160",
   "metadata": {},
   "source": [
    "Deskriptive statisctic untuk menyajikan informasi data <br>\n",
    "Inferential statisctic untuk menyimpulkan data"
   ]
  },
  {
   "cell_type": "markdown",
   "id": "556dae74",
   "metadata": {},
   "source": [
    "Outlier terkait data yang tersaji <br> overfitting terkait model"
   ]
  },
  {
   "cell_type": "markdown",
   "id": "2b81ef4b",
   "metadata": {},
   "source": [
    "Menangani outlier berbeda-beda, tergantung kasusnya <br>\n",
    "Bisa di remove, transform log, atau milih data yang gaada outlier"
   ]
  },
  {
   "cell_type": "markdown",
   "id": "c268fe30",
   "metadata": {},
   "source": [
    "Measure of Central tendency <br>\n",
    "Mean, Modus, Median"
   ]
  },
  {
   "cell_type": "code",
   "execution_count": 2,
   "id": "f21573a3",
   "metadata": {},
   "outputs": [
    {
     "name": "stdout",
     "output_type": "stream",
     "text": [
      "[8, 1, 2.5, 4, 28]\n",
      "[8, 1, 2.5, nan, 4, 28]\n"
     ]
    }
   ],
   "source": [
    "x = [8,1,2.5,4,28]\n",
    "x_with_nan = [8,1,2.5,np.nan,4,28]\n",
    "print(x)\n",
    "print(x_with_nan)"
   ]
  },
  {
   "cell_type": "code",
   "execution_count": 3,
   "id": "2c798807",
   "metadata": {},
   "outputs": [
    {
     "data": {
      "text/plain": [
       "8.7"
      ]
     },
     "execution_count": 3,
     "metadata": {},
     "output_type": "execute_result"
    }
   ],
   "source": [
    "mean_x = sum(x)/len(x)\n",
    "mean_x"
   ]
  },
  {
   "cell_type": "code",
   "execution_count": 4,
   "id": "6a03c486",
   "metadata": {},
   "outputs": [
    {
     "name": "stdout",
     "output_type": "stream",
     "text": [
      "8.7\n"
     ]
    }
   ],
   "source": [
    "mean_stats = statistics.mean(x)\n",
    "print(mean_stats)"
   ]
  },
  {
   "cell_type": "code",
   "execution_count": 5,
   "id": "dfbba6ff",
   "metadata": {},
   "outputs": [
    {
     "name": "stdout",
     "output_type": "stream",
     "text": [
      "8.7\n"
     ]
    }
   ],
   "source": [
    "mean_np = np.mean(x)\n",
    "print(mean_np)"
   ]
  },
  {
   "cell_type": "code",
   "execution_count": 6,
   "id": "c27a74b5",
   "metadata": {},
   "outputs": [
    {
     "name": "stdout",
     "output_type": "stream",
     "text": [
      "[ 8.   1.   2.5  4.  28. ] [ 8.   1.   2.5  nan  4.  28. ]\n",
      "0     8.0\n",
      "1     1.0\n",
      "2     2.5\n",
      "3     4.0\n",
      "4    28.0\n",
      "dtype: float64 0     8.0\n",
      "1     1.0\n",
      "2     2.5\n",
      "3     NaN\n",
      "4     4.0\n",
      "5    28.0\n",
      "dtype: float64\n"
     ]
    }
   ],
   "source": [
    "#Buat array (y) dan series (z) dari x\n",
    "y,y_with_nan = np.array(x), np.array(x_with_nan)\n",
    "z,z_with_nan = pd.Series(x), pd.Series(x_with_nan)\n",
    "\n",
    "print(y,y_with_nan)\n",
    "print(z,z_with_nan)"
   ]
  },
  {
   "cell_type": "code",
   "execution_count": 7,
   "id": "572b4d20",
   "metadata": {},
   "outputs": [
    {
     "data": {
      "text/plain": [
       "8.7"
      ]
     },
     "execution_count": 7,
     "metadata": {},
     "output_type": "execute_result"
    }
   ],
   "source": [
    "z_with_nan.mean()"
   ]
  },
  {
   "cell_type": "code",
   "execution_count": 8,
   "id": "e9bce347",
   "metadata": {},
   "outputs": [
    {
     "data": {
      "text/plain": [
       "nan"
      ]
     },
     "execution_count": 8,
     "metadata": {},
     "output_type": "execute_result"
    }
   ],
   "source": [
    "y_with_nan.mean()"
   ]
  },
  {
   "cell_type": "code",
   "execution_count": 9,
   "id": "ca431dcd",
   "metadata": {},
   "outputs": [
    {
     "data": {
      "text/plain": [
       "8.7"
      ]
     },
     "execution_count": 9,
     "metadata": {},
     "output_type": "execute_result"
    }
   ],
   "source": [
    "y.mean()"
   ]
  },
  {
   "cell_type": "code",
   "execution_count": 10,
   "id": "52c328c4",
   "metadata": {},
   "outputs": [
    {
     "data": {
      "text/plain": [
       "8.7"
      ]
     },
     "execution_count": 10,
     "metadata": {},
     "output_type": "execute_result"
    }
   ],
   "source": [
    "z.mean()"
   ]
  },
  {
   "cell_type": "markdown",
   "id": "fed93b58",
   "metadata": {},
   "source": [
    "Weighted mean : Rata-rata dengan menghitung pembobotan"
   ]
  },
  {
   "cell_type": "code",
   "execution_count": 11,
   "id": "f7ef5ae9",
   "metadata": {},
   "outputs": [
    {
     "name": "stdout",
     "output_type": "stream",
     "text": [
      "6.95\n"
     ]
    }
   ],
   "source": [
    "x = [8,1,2.5,4,28]\n",
    "w = [0.1, 0.2, 0.3, 0.25, 0.15] #pembobotannya\n",
    "\n",
    "y,z,w = np.array(x),pd.Series(z), np.array(w)\n",
    "\n",
    "wmean = np.average(y, weights=w)\n",
    "print(wmean)"
   ]
  },
  {
   "cell_type": "markdown",
   "id": "c928d1e1",
   "metadata": {},
   "source": [
    "Harmonic mean : sering dipakai untuk rata-rata rate, kecepatan <br>\n",
    "$\\frac{n}{\\sum\\limits^{n}_{i=0}\\frac{1}{x_{i}}}$, dengan\n",
    "i berjalan"
   ]
  },
  {
   "cell_type": "code",
   "execution_count": 12,
   "id": "eaebc48c",
   "metadata": {},
   "outputs": [
    {
     "name": "stdout",
     "output_type": "stream",
     "text": [
      "2.7613412228796843\n"
     ]
    }
   ],
   "source": [
    "hmean_stats = statistics.harmonic_mean(x)\n",
    "print(hmean_stats)"
   ]
  },
  {
   "cell_type": "code",
   "execution_count": 13,
   "id": "ab004a24",
   "metadata": {},
   "outputs": [
    {
     "name": "stdout",
     "output_type": "stream",
     "text": [
      "30.0\n"
     ]
    }
   ],
   "source": [
    "speed = [60,20]\n",
    "hmean_stats2 =  statistics.harmonic_mean(speed)\n",
    "print(hmean_stats2)"
   ]
  },
  {
   "cell_type": "code",
   "execution_count": 14,
   "id": "911a5a86",
   "metadata": {},
   "outputs": [
    {
     "name": "stdout",
     "output_type": "stream",
     "text": [
      "30.0\n"
     ]
    }
   ],
   "source": [
    "hmean_stats3 =  scipy.stats.hmean(speed)\n",
    "print(hmean_stats3)"
   ]
  },
  {
   "cell_type": "markdown",
   "id": "66849865",
   "metadata": {},
   "source": [
    "Gemotric mean <br>\n",
    "$(x_{1} \\cdot x_{2} \\cdot \\cdots x_{n})^{\\frac{1}{n}}$"
   ]
  },
  {
   "cell_type": "code",
   "execution_count": 15,
   "id": "810fd515",
   "metadata": {},
   "outputs": [
    {
     "data": {
      "text/plain": [
       "2730.0"
      ]
     },
     "execution_count": 15,
     "metadata": {},
     "output_type": "execute_result"
    }
   ],
   "source": [
    "#aritmatic mean\n",
    "x = 1000\n",
    "x*=1.3\n",
    "x*=1.5\n",
    "x*=1.4\n",
    "x"
   ]
  },
  {
   "cell_type": "code",
   "execution_count": 16,
   "id": "37c1616e",
   "metadata": {},
   "outputs": [
    {
     "data": {
      "text/plain": [
       "2743.9999999999995"
      ]
     },
     "execution_count": 16,
     "metadata": {},
     "output_type": "execute_result"
    }
   ],
   "source": [
    "#coba manual mean\n",
    "x = 1000\n",
    "x*=1.4\n",
    "x*=1.4\n",
    "x*=1.4\n",
    "x"
   ]
  },
  {
   "cell_type": "code",
   "execution_count": 17,
   "id": "c5e71c4e",
   "metadata": {},
   "outputs": [
    {
     "data": {
      "text/plain": [
       "39.148676411688626"
      ]
     },
     "execution_count": 17,
     "metadata": {},
     "output_type": "execute_result"
    }
   ],
   "source": [
    "gmean = (30*50*40)**(1/3)\n",
    "gmean "
   ]
  },
  {
   "cell_type": "code",
   "execution_count": 18,
   "id": "744307c7",
   "metadata": {},
   "outputs": [
    {
     "data": {
      "text/plain": [
       "2694.24595178679"
      ]
     },
     "execution_count": 18,
     "metadata": {},
     "output_type": "execute_result"
    }
   ],
   "source": [
    "x = 1000\n",
    "x*=1.39148676411688626\n",
    "x*=1.39148676411688626\n",
    "x*=1.39148676411688626\n",
    "x"
   ]
  },
  {
   "cell_type": "code",
   "execution_count": 19,
   "id": "90abf491",
   "metadata": {},
   "outputs": [
    {
     "name": "stdout",
     "output_type": "stream",
     "text": [
      "2694.245951786789\n"
     ]
    }
   ],
   "source": [
    "gmean_x =  scipy.stats.gmean(x)\n",
    "print(gmean_x)"
   ]
  },
  {
   "cell_type": "code",
   "execution_count": 20,
   "id": "915c5945",
   "metadata": {},
   "outputs": [
    {
     "name": "stdout",
     "output_type": "stream",
     "text": [
      "5\n",
      "4\n"
     ]
    }
   ],
   "source": [
    "a = [1,2,4,8,9]\n",
    "n = len(a)\n",
    "median = a[2]\n",
    "print(n)\n",
    "print(median)"
   ]
  },
  {
   "cell_type": "code",
   "execution_count": 21,
   "id": "5180e6c9",
   "metadata": {},
   "outputs": [
    {
     "data": {
      "text/plain": [
       "4.0"
      ]
     },
     "execution_count": 21,
     "metadata": {},
     "output_type": "execute_result"
    }
   ],
   "source": [
    "x = [8,1,2.5,4,28] #median selalu di sort terkecil dulu\n",
    "np.median(x)"
   ]
  },
  {
   "cell_type": "code",
   "execution_count": 22,
   "id": "c0dda174",
   "metadata": {},
   "outputs": [
    {
     "data": {
      "text/plain": [
       "2"
      ]
     },
     "execution_count": 22,
     "metadata": {},
     "output_type": "execute_result"
    }
   ],
   "source": [
    "n = len(x)\n",
    "round(0.5*(n-1)) #untuk mengambil indeks"
   ]
  },
  {
   "cell_type": "code",
   "execution_count": 23,
   "id": "8a71c87a",
   "metadata": {},
   "outputs": [
    {
     "data": {
      "text/plain": [
       "4"
      ]
     },
     "execution_count": 23,
     "metadata": {},
     "output_type": "execute_result"
    }
   ],
   "source": [
    "#Pembuktian manual\n",
    "n = len(x)\n",
    "if n%2==1: #sorted untuk ngurutin data terkecil\n",
    "    median_ = sorted(x)[round(0.5*(n-1))]\n",
    "else:\n",
    "    x_ord, index = sorted(x), round(0.5*n)\n",
    "    median_ = 0.5*(x_ord[index-1]+x_ord[index])\n",
    "median_"
   ]
  },
  {
   "cell_type": "code",
   "execution_count": 24,
   "id": "ecedf018",
   "metadata": {},
   "outputs": [
    {
     "data": {
      "text/plain": [
       "2.5"
      ]
     },
     "execution_count": 24,
     "metadata": {},
     "output_type": "execute_result"
    }
   ],
   "source": [
    "c = [1,2,4,3]\n",
    "n = len(c)\n",
    "if n%2==1: #sorted untuk ngurutin data terkecil\n",
    "    median_ = sorted(c)[round(0.5*(n-1))]\n",
    "else:\n",
    "    x_ord, index = sorted(c), round(0.5*n)\n",
    "    median_ = 0.5*(x_ord[index-1]+x_ord[index])\n",
    "median_"
   ]
  },
  {
   "cell_type": "code",
   "execution_count": 25,
   "id": "ec39217b",
   "metadata": {},
   "outputs": [
    {
     "name": "stdout",
     "output_type": "stream",
     "text": [
      "2\n"
     ]
    }
   ],
   "source": [
    "u = [2,3,2,8,12]\n",
    "mode_ = max((u.count(i),i)for i in set(u))[1] #[1] karena mau ambil nilainya, kalo [0] ambil jumlah datannya\n",
    "print(mode_)"
   ]
  },
  {
   "cell_type": "code",
   "execution_count": 26,
   "id": "c264ff86",
   "metadata": {},
   "outputs": [
    {
     "data": {
      "text/plain": [
       "2"
      ]
     },
     "execution_count": 26,
     "metadata": {},
     "output_type": "execute_result"
    }
   ],
   "source": [
    "u.count(2) #untuk melihat jumlah angka yang sama"
   ]
  },
  {
   "cell_type": "code",
   "execution_count": 27,
   "id": "d68ca31d",
   "metadata": {},
   "outputs": [
    {
     "data": {
      "text/plain": [
       "[(1, 8), (2, 2), (1, 3), (1, 12)]"
      ]
     },
     "execution_count": 27,
     "metadata": {},
     "output_type": "execute_result"
    }
   ],
   "source": [
    "[(u.count(i),i)for i in set(u)]"
   ]
  },
  {
   "cell_type": "code",
   "execution_count": 28,
   "id": "b40f0bad",
   "metadata": {},
   "outputs": [
    {
     "data": {
      "text/plain": [
       "2"
      ]
     },
     "execution_count": 28,
     "metadata": {},
     "output_type": "execute_result"
    }
   ],
   "source": [
    "statistics.mode(u)"
   ]
  },
  {
   "cell_type": "code",
   "execution_count": 32,
   "id": "ab5e1763",
   "metadata": {},
   "outputs": [
    {
     "data": {
      "text/plain": [
       "0    2\n",
       "dtype: int64"
      ]
     },
     "execution_count": 32,
     "metadata": {},
     "output_type": "execute_result"
    }
   ],
   "source": [
    "u_series = pd.Series(u)\n",
    "u_series.mode()"
   ]
  },
  {
   "cell_type": "code",
   "execution_count": 33,
   "id": "571a3f25",
   "metadata": {},
   "outputs": [
    {
     "data": {
      "text/plain": [
       "2"
      ]
     },
     "execution_count": 33,
     "metadata": {},
     "output_type": "execute_result"
    }
   ],
   "source": [
    "u_array = np.array(u)\n",
    "statistics.mode(u_array)"
   ]
  },
  {
   "cell_type": "markdown",
   "id": "b042bba5",
   "metadata": {},
   "source": [
    "Series akan mengabaikan NaN sedangkan List akan mempertimbangkan NaN"
   ]
  },
  {
   "cell_type": "code",
   "execution_count": 34,
   "id": "684b1a5a",
   "metadata": {},
   "outputs": [
    {
     "data": {
      "text/plain": [
       "0    3.0\n",
       "dtype: float64"
      ]
     },
     "execution_count": 34,
     "metadata": {},
     "output_type": "execute_result"
    }
   ],
   "source": [
    "v = pd.Series([1,2,3,3,3,np.nan,np.nan,np.nan,np.nan])\n",
    "v.mode()"
   ]
  },
  {
   "cell_type": "code",
   "execution_count": 35,
   "id": "863a2d97",
   "metadata": {},
   "outputs": [
    {
     "data": {
      "text/plain": [
       "nan"
      ]
     },
     "execution_count": 35,
     "metadata": {},
     "output_type": "execute_result"
    }
   ],
   "source": [
    "h = [1,2,3,3,3,np.nan,np.nan,np.nan,np.nan]\n",
    "statistics.mode(h)"
   ]
  },
  {
   "cell_type": "markdown",
   "id": "bf251aa2",
   "metadata": {},
   "source": [
    "Measure of spread/dispersion <br>\n",
    "Standar deviasi, mean deviasi, variansi, range, percentil, quartil, skewnes, kurtosis, korelasi <br>\n",
    "- Standar Deviasi : simpangan baku, pengukuran jarak rata-rata. Rumusunya untuk SD sample  $\\sigma = \\sqrt{\\frac{1}{n-1}\\sum\\limits^{n}_{i=0}(x_{n} - \\bar{x})^{2}}$ dan untuk SD populasi $\\sigma =\\sqrt{\\frac{1}{n}\\sum\\limits^{n}_{i=0}(x_{n} - \\bar{x})^{2}}$ <br>\n",
    "- Mean deviasi : rata-rata perbedaan absolut antara tiap nilai. Rumusnya ($\\frac{|x_{n} - \\bar{x}|}{n}$), $x_{n}=$ suatu data, $\\bar{x}=$ rata-rata, $n=$ jumlah data <br>\n",
    "- Variansi : kuadrat jarak rata-rata. Rumusnya $(SD)^{2}$ <br>\n",
    "- Range : perbedaan nilai terendah dan tertinggi <br>\n",
    "- Persentil : cara merepresentasikan posisi suatu nilai dalam kumpulan data <br>\n",
    "- Quartil : nilai yang membagi data menjadi beberapa quarter <br>\n",
    "- Skewness : ukuran asimetri distribusi probabilitas, nilai kemiringan. <br> \n",
    "ekor (perbandingannya titik tertinggi) kiri lebih panjang dari ekor kanan, dan mean < mode, hasil sesuai rumus negatif : Negative skewness <br>\n",
    "ekor (perbandingannya titik tertinggi) kanan lebih panjang dari ekor kiri, dan mean > mode, hasil sesuai rumus positif : Positive skewness<br>\n",
    "Rumusnya untuk mode skewness $\\frac{mean-mode}{SD}$, untuk median skewness $3\\frac{mean-median}{SD}$ <br>\n",
    "- Kurtosis : ukuran data bersifat banyak outlier <br>\n",
    "Mesokurtic : distribusi yang memiliki kurtosis berdistribusi normal, yaitu nol. <br>\n",
    "Leptokurtic : distribusi yang memiliki kurtosis > kurtosis berdistribusi normal <br>\n",
    "Platykurtic : distribusi yang memiliki kurtosis < kurtosis berdistribusi normal <br>\n",
    "Perbedaan skewness dengan kurtosis ialah skewness mengacu pada tingkat simetri, sedangkan kurtosis engacu pada tingkat keberadaan outlier dalam distribusi <br>\n",
    "- Korelasi : Teknik statistik untuk menunjukkan kekuatan variabel yang terkait. <br>\n",
    "r > 0 : semakin besar satu variabel, variabel lainnya makin besar. <br>\n",
    "r < 0 : semakin besar satu variabel, variabel lainnya makin kecil <br>\n",
    "r = 0 : tidak ada hubungan antar variabel <br>\n",
    "r = 1 : kemungkinan nilai maksimum di r <br>\n",
    "r = -1 : kemungkinan nilai minimum di r"
   ]
  },
  {
   "cell_type": "markdown",
   "id": "4748209c",
   "metadata": {},
   "source": [
    "Variansi sample $ = \\frac{\\sum\\limits^{n}_{i=0}(x_{n} - \\bar{x})^{2}}{n-1}$ <br> variansi populasi $ = \\frac{\\sum\\limits^{n}_{i=0}(x_{n} - \\bar{x})^{2}}{n}$"
   ]
  },
  {
   "cell_type": "code",
   "execution_count": 38,
   "id": "675c9d94",
   "metadata": {},
   "outputs": [
    {
     "data": {
      "text/plain": [
       "[1, 2.5, 4, 8, 28]"
      ]
     },
     "execution_count": 38,
     "metadata": {},
     "output_type": "execute_result"
    }
   ],
   "source": [
    "x = [8, 1, 2.5, 4, 28]\n",
    "sorted(x)"
   ]
  },
  {
   "cell_type": "code",
   "execution_count": 39,
   "id": "cadb89b4",
   "metadata": {},
   "outputs": [
    {
     "data": {
      "text/plain": [
       "123.19999999999999"
      ]
     },
     "execution_count": 39,
     "metadata": {},
     "output_type": "execute_result"
    }
   ],
   "source": [
    "n  = len(x)\n",
    "mean_var = np.mean(x)\n",
    "var_ = sum((item-mean_var)**2 for item in x ) / (n-1)\n",
    "var_"
   ]
  },
  {
   "cell_type": "code",
   "execution_count": 41,
   "id": "8ed4f7d3",
   "metadata": {},
   "outputs": [
    {
     "data": {
      "text/plain": [
       "123.2"
      ]
     },
     "execution_count": 41,
     "metadata": {},
     "output_type": "execute_result"
    }
   ],
   "source": [
    "var_stat = statistics.variance(x)\n",
    "var_stat"
   ]
  },
  {
   "cell_type": "code",
   "execution_count": 42,
   "id": "bc6e780b",
   "metadata": {},
   "outputs": [
    {
     "data": {
      "text/plain": [
       "123.19999999999999"
      ]
     },
     "execution_count": 42,
     "metadata": {},
     "output_type": "execute_result"
    }
   ],
   "source": [
    "var_np = np.var(x,ddof=1)\n",
    "var_np"
   ]
  },
  {
   "cell_type": "code",
   "execution_count": 43,
   "id": "631ca7f9",
   "metadata": {},
   "outputs": [
    {
     "data": {
      "text/plain": [
       "123.19999999999999"
      ]
     },
     "execution_count": 43,
     "metadata": {},
     "output_type": "execute_result"
    }
   ],
   "source": [
    "z = pd.Series(x)\n",
    "z.var()"
   ]
  },
  {
   "cell_type": "markdown",
   "id": "74e68b5a",
   "metadata": {},
   "source": [
    "Standar deviasi $\\sigma = \\sqrt{Variansi}$"
   ]
  },
  {
   "cell_type": "code",
   "execution_count": 29,
   "id": "8302698d",
   "metadata": {},
   "outputs": [
    {
     "name": "stdout",
     "output_type": "stream",
     "text": [
      "345.25000000000006\n",
      "18.58090417606205\n"
     ]
    }
   ],
   "source": [
    "#Kuis 1 tim 4\n",
    "x = [1,2,3,6,7,8,30,40,50]\n",
    "n = len(x)\n",
    "mean = sum(x)/n\n",
    "var_ = sum((item - mean)**2 for item in x)/(n-1)\n",
    "Sd_ = var_**(1/2)\n",
    "\n",
    "print(var_)\n",
    "print(Sd_)"
   ]
  },
  {
   "cell_type": "code",
   "execution_count": 45,
   "id": "9c53c812",
   "metadata": {},
   "outputs": [
    {
     "data": {
      "text/plain": [
       "123.19999999999999"
      ]
     },
     "execution_count": 45,
     "metadata": {},
     "output_type": "execute_result"
    }
   ],
   "source": [
    "var_np"
   ]
  },
  {
   "cell_type": "code",
   "execution_count": 47,
   "id": "a7952926",
   "metadata": {},
   "outputs": [
    {
     "data": {
      "text/plain": [
       "11.099549540409285"
      ]
     },
     "execution_count": 47,
     "metadata": {},
     "output_type": "execute_result"
    }
   ],
   "source": [
    "stdev = var_np**(1/2)\n",
    "stdev"
   ]
  },
  {
   "cell_type": "code",
   "execution_count": 48,
   "id": "cc207339",
   "metadata": {},
   "outputs": [
    {
     "data": {
      "text/plain": [
       "11.099549540409285"
      ]
     },
     "execution_count": 48,
     "metadata": {},
     "output_type": "execute_result"
    }
   ],
   "source": [
    "stdev = np.sqrt(var_np) \n",
    "stdev"
   ]
  },
  {
   "cell_type": "code",
   "execution_count": 49,
   "id": "a4e3a543",
   "metadata": {},
   "outputs": [
    {
     "data": {
      "text/plain": [
       "11.099549540409287"
      ]
     },
     "execution_count": 49,
     "metadata": {},
     "output_type": "execute_result"
    }
   ],
   "source": [
    "stdev = statistics.stdev(x)\n",
    "stdev"
   ]
  },
  {
   "cell_type": "code",
   "execution_count": 50,
   "id": "228c9d05",
   "metadata": {},
   "outputs": [
    {
     "data": {
      "text/plain": [
       "11.099549540409285"
      ]
     },
     "execution_count": 50,
     "metadata": {},
     "output_type": "execute_result"
    }
   ],
   "source": [
    "stdev = np.std(x,ddof=1)\n",
    "stdev"
   ]
  },
  {
   "cell_type": "markdown",
   "id": "0a583ab3",
   "metadata": {},
   "source": [
    "Rumus skewness : $\\frac{\\sum\\limits^{n}_{i=0}(x_{i} - \\bar{x})^{3}n}{(n-1)(n-2)\\sigma^{3}}$"
   ]
  },
  {
   "cell_type": "code",
   "execution_count": 51,
   "id": "7fa66246",
   "metadata": {},
   "outputs": [
    {
     "data": {
      "text/plain": [
       "1.947043227390592"
      ]
     },
     "execution_count": 51,
     "metadata": {},
     "output_type": "execute_result"
    }
   ],
   "source": [
    "n = len(x)\n",
    "mean = np.mean(x)\n",
    "stdev = statistics.stdev(x)\n",
    "skew_ = (sum((item - mean)**3 for item in x))*n / ((n-1)*(n-2)*(stdev**3))\n",
    "skew_"
   ]
  },
  {
   "cell_type": "code",
   "execution_count": 52,
   "id": "ff8d3605",
   "metadata": {},
   "outputs": [
    {
     "data": {
      "text/plain": [
       "1.9470432273905927"
      ]
     },
     "execution_count": 52,
     "metadata": {},
     "output_type": "execute_result"
    }
   ],
   "source": [
    "scipy.stats.skew(x,bias=False)"
   ]
  },
  {
   "cell_type": "code",
   "execution_count": 53,
   "id": "aa9523c6",
   "metadata": {},
   "outputs": [
    {
     "data": {
      "text/plain": [
       "1.9470432273905924"
      ]
     },
     "execution_count": 53,
     "metadata": {},
     "output_type": "execute_result"
    }
   ],
   "source": [
    "z = pd.Series(x)\n",
    "z.skew()"
   ]
  },
  {
   "cell_type": "code",
   "execution_count": 54,
   "id": "fa20b13e",
   "metadata": {},
   "outputs": [
    {
     "data": {
      "text/plain": [
       "nan"
      ]
     },
     "execution_count": 54,
     "metadata": {},
     "output_type": "execute_result"
    }
   ],
   "source": [
    "scipy.stats.skew(x_with_nan)"
   ]
  },
  {
   "cell_type": "code",
   "execution_count": 55,
   "id": "137ffbbe",
   "metadata": {},
   "outputs": [
    {
     "data": {
      "text/plain": [
       "1.9470432273905924"
      ]
     },
     "execution_count": 55,
     "metadata": {},
     "output_type": "execute_result"
    }
   ],
   "source": [
    "z_with_nan = pd.Series(x_with_nan)\n",
    "z_with_nan.skew()"
   ]
  },
  {
   "cell_type": "code",
   "execution_count": 56,
   "id": "671c7101",
   "metadata": {},
   "outputs": [
    {
     "data": {
      "text/plain": [
       "nan"
      ]
     },
     "execution_count": 56,
     "metadata": {},
     "output_type": "execute_result"
    }
   ],
   "source": [
    "scipy.stats.skew(z_with_nan)"
   ]
  },
  {
   "cell_type": "code",
   "execution_count": 57,
   "id": "d5b6508f",
   "metadata": {},
   "outputs": [
    {
     "data": {
      "text/plain": [
       "-3.44"
      ]
     },
     "execution_count": 57,
     "metadata": {},
     "output_type": "execute_result"
    }
   ],
   "source": [
    "x =[-5,-1.1,0.1,2,8,12.8,21,25.8,41]\n",
    "np.percentile(x,5) #Percentile 5"
   ]
  },
  {
   "cell_type": "code",
   "execution_count": 58,
   "id": "c00c0af4",
   "metadata": {},
   "outputs": [
    {
     "data": {
      "text/plain": [
       "-5.0"
      ]
     },
     "execution_count": 58,
     "metadata": {},
     "output_type": "execute_result"
    }
   ],
   "source": [
    "np.percentile(x,0)"
   ]
  },
  {
   "cell_type": "code",
   "execution_count": 59,
   "id": "3aa7dc37",
   "metadata": {},
   "outputs": [
    {
     "data": {
      "text/plain": [
       "41.0"
      ]
     },
     "execution_count": 59,
     "metadata": {},
     "output_type": "execute_result"
    }
   ],
   "source": [
    "np.percentile(x,100)"
   ]
  },
  {
   "cell_type": "code",
   "execution_count": 60,
   "id": "2c3cfc5d",
   "metadata": {},
   "outputs": [
    {
     "data": {
      "text/plain": [
       "28.840000000000003"
      ]
     },
     "execution_count": 60,
     "metadata": {},
     "output_type": "execute_result"
    }
   ],
   "source": [
    "np.percentile(x,90)"
   ]
  },
  {
   "cell_type": "code",
   "execution_count": 66,
   "id": "d3f24d4b",
   "metadata": {},
   "outputs": [
    {
     "data": {
      "text/plain": [
       "[]"
      ]
     },
     "execution_count": 66,
     "metadata": {},
     "output_type": "execute_result"
    }
   ],
   "source": [
    "statistics.quantiles(x,n=1)"
   ]
  },
  {
   "cell_type": "code",
   "execution_count": 61,
   "id": "7c5a5c48",
   "metadata": {},
   "outputs": [
    {
     "data": {
      "text/plain": [
       "[8.0]"
      ]
     },
     "execution_count": 61,
     "metadata": {},
     "output_type": "execute_result"
    }
   ],
   "source": [
    "statistics.quantiles(x,n=2)"
   ]
  },
  {
   "cell_type": "code",
   "execution_count": 65,
   "id": "4e55ac00",
   "metadata": {},
   "outputs": [
    {
     "data": {
      "text/plain": [
       "8.0"
      ]
     },
     "execution_count": 65,
     "metadata": {},
     "output_type": "execute_result"
    }
   ],
   "source": [
    "np.median(x) #equivalen dengan quartil 2"
   ]
  },
  {
   "cell_type": "code",
   "execution_count": 62,
   "id": "86679a95",
   "metadata": {},
   "outputs": [
    {
     "data": {
      "text/plain": [
       "[-0.5, 8.0, 23.4]"
      ]
     },
     "execution_count": 62,
     "metadata": {},
     "output_type": "execute_result"
    }
   ],
   "source": [
    "statistics.quantiles(x,n=4)"
   ]
  },
  {
   "cell_type": "code",
   "execution_count": 67,
   "id": "cf704b0d",
   "metadata": {},
   "outputs": [
    {
     "data": {
      "text/plain": [
       "[0.1, 8.0, 21.0]"
      ]
     },
     "execution_count": 67,
     "metadata": {},
     "output_type": "execute_result"
    }
   ],
   "source": [
    "statistics.quantiles(x,n=4,method='inclusive')"
   ]
  },
  {
   "cell_type": "code",
   "execution_count": 68,
   "id": "53f79616",
   "metadata": {},
   "outputs": [
    {
     "data": {
      "text/plain": [
       "-5.0"
      ]
     },
     "execution_count": 68,
     "metadata": {},
     "output_type": "execute_result"
    }
   ],
   "source": [
    "np.quantile(x,0)"
   ]
  },
  {
   "cell_type": "code",
   "execution_count": 69,
   "id": "1d9c541d",
   "metadata": {},
   "outputs": [
    {
     "data": {
      "text/plain": [
       "41.0"
      ]
     },
     "execution_count": 69,
     "metadata": {},
     "output_type": "execute_result"
    }
   ],
   "source": [
    "np.quantile(x,1)"
   ]
  },
  {
   "cell_type": "code",
   "execution_count": 70,
   "id": "31c2dc56",
   "metadata": {},
   "outputs": [
    {
     "data": {
      "text/plain": [
       "8.0"
      ]
     },
     "execution_count": 70,
     "metadata": {},
     "output_type": "execute_result"
    }
   ],
   "source": [
    "np.quantile(x,0.5)"
   ]
  },
  {
   "cell_type": "code",
   "execution_count": 71,
   "id": "e8a0e683",
   "metadata": {},
   "outputs": [
    {
     "data": {
      "text/plain": [
       "[-5, -1.1, nan, 0.1, 2, 8, 12.8, 21, 25.8, 41]"
      ]
     },
     "execution_count": 71,
     "metadata": {},
     "output_type": "execute_result"
    }
   ],
   "source": [
    "x_with_nan = [-5, -1.1,np.nan, 0.1, 2, 8, 12.8, 21, 25.8, 41]\n",
    "x_with_nan"
   ]
  },
  {
   "cell_type": "code",
   "execution_count": 72,
   "id": "69e2d6b7",
   "metadata": {},
   "outputs": [
    {
     "data": {
      "text/plain": [
       "nan"
      ]
     },
     "execution_count": 72,
     "metadata": {},
     "output_type": "execute_result"
    }
   ],
   "source": [
    "np.quantile(x_with_nan,0)"
   ]
  },
  {
   "cell_type": "code",
   "execution_count": 73,
   "id": "8a66d48b",
   "metadata": {},
   "outputs": [
    {
     "data": {
      "text/plain": [
       "8.0"
      ]
     },
     "execution_count": 73,
     "metadata": {},
     "output_type": "execute_result"
    }
   ],
   "source": [
    "np.nanquantile(x_with_nan,0.5)"
   ]
  },
  {
   "cell_type": "code",
   "execution_count": 74,
   "id": "60c1d7e9",
   "metadata": {},
   "outputs": [
    {
     "data": {
      "text/plain": [
       "array([ 0.1,  8. , 21. ])"
      ]
     },
     "execution_count": 74,
     "metadata": {},
     "output_type": "execute_result"
    }
   ],
   "source": [
    "np.quantile(x,[0.25,0.5,0.75])"
   ]
  },
  {
   "cell_type": "code",
   "execution_count": 75,
   "id": "50f54afa",
   "metadata": {},
   "outputs": [
    {
     "data": {
      "text/plain": [
       "array([ 0.1,  8. , 21. ])"
      ]
     },
     "execution_count": 75,
     "metadata": {},
     "output_type": "execute_result"
    }
   ],
   "source": [
    "np.percentile(x,[25,50,75])"
   ]
  },
  {
   "cell_type": "code",
   "execution_count": 77,
   "id": "14471c84",
   "metadata": {},
   "outputs": [
    {
     "data": {
      "text/plain": [
       "46.0"
      ]
     },
     "execution_count": 77,
     "metadata": {},
     "output_type": "execute_result"
    }
   ],
   "source": [
    "np.ptp(x) #menghitung range x"
   ]
  },
  {
   "cell_type": "code",
   "execution_count": 78,
   "id": "33a75666",
   "metadata": {},
   "outputs": [
    {
     "data": {
      "text/plain": [
       "20.9"
      ]
     },
     "execution_count": 78,
     "metadata": {},
     "output_type": "execute_result"
    }
   ],
   "source": [
    "quartiles = np.quantile(x,[0.25,0.75])\n",
    "IQR = quartiles[1] - quartiles[0]\n",
    "IQR #Interquartil range"
   ]
  },
  {
   "cell_type": "code",
   "execution_count": 80,
   "id": "a631ee99",
   "metadata": {},
   "outputs": [
    {
     "data": {
      "text/plain": [
       "DescribeResult(nobs=9, minmax=(-5.0, 41.0), mean=11.622222222222222, variance=228.75194444444446, skewness=0.9249043136685094, kurtosis=0.14770623629658886)"
      ]
     },
     "execution_count": 80,
     "metadata": {},
     "output_type": "execute_result"
    }
   ],
   "source": [
    "result = scipy.stats.describe(x,ddof=1,bias=False)\n",
    "result"
   ]
  },
  {
   "cell_type": "code",
   "execution_count": 81,
   "id": "023ca7a2",
   "metadata": {},
   "outputs": [
    {
     "data": {
      "text/plain": [
       "15.12454774346805"
      ]
     },
     "execution_count": 81,
     "metadata": {},
     "output_type": "execute_result"
    }
   ],
   "source": [
    "(result.variance)**(1/2)"
   ]
  },
  {
   "cell_type": "code",
   "execution_count": 82,
   "id": "435423a6",
   "metadata": {},
   "outputs": [
    {
     "data": {
      "text/plain": [
       "46.0"
      ]
     },
     "execution_count": 82,
     "metadata": {},
     "output_type": "execute_result"
    }
   ],
   "source": [
    "result.minmax[1]-result.minmax[0]"
   ]
  },
  {
   "cell_type": "code",
   "execution_count": 83,
   "id": "3b826d24",
   "metadata": {},
   "outputs": [
    {
     "data": {
      "text/plain": [
       "0.9249043136685094"
      ]
     },
     "execution_count": 83,
     "metadata": {},
     "output_type": "execute_result"
    }
   ],
   "source": [
    "result.skewness"
   ]
  },
  {
   "cell_type": "code",
   "execution_count": 84,
   "id": "8dd5de0a",
   "metadata": {},
   "outputs": [
    {
     "data": {
      "text/plain": [
       "0    -5.0\n",
       "1    -1.1\n",
       "2     0.1\n",
       "3     2.0\n",
       "4     8.0\n",
       "5    12.8\n",
       "6    21.0\n",
       "7    25.8\n",
       "8    41.0\n",
       "dtype: float64"
      ]
     },
     "execution_count": 84,
     "metadata": {},
     "output_type": "execute_result"
    }
   ],
   "source": [
    "z = pd.Series(x)\n",
    "z"
   ]
  },
  {
   "cell_type": "code",
   "execution_count": 85,
   "id": "ad5b76de",
   "metadata": {},
   "outputs": [
    {
     "data": {
      "text/plain": [
       "count     9.000000\n",
       "mean     11.622222\n",
       "std      15.124548\n",
       "min      -5.000000\n",
       "25%       0.100000\n",
       "50%       8.000000\n",
       "75%      21.000000\n",
       "max      41.000000\n",
       "dtype: float64"
      ]
     },
     "execution_count": 85,
     "metadata": {},
     "output_type": "execute_result"
    }
   ],
   "source": [
    "z.describe()"
   ]
  },
  {
   "cell_type": "code",
   "execution_count": 87,
   "id": "64875f00",
   "metadata": {},
   "outputs": [],
   "source": [
    "#Korelasi\n",
    "x = list(range(-10,11))\n",
    "y = [0 , 2, 2, 2, 2, 3, 3, 6, 7, 4, 7, 6, 6, 9, 4, 5, 5, 10, 11, 12, 14]\n",
    "x_ar, y_ar = np.array(x),np.array(y)\n",
    "x_s,y_s = pd.Series(x),pd.Series(y)"
   ]
  },
  {
   "cell_type": "code",
   "execution_count": 88,
   "id": "0106a7e2",
   "metadata": {},
   "outputs": [
    {
     "data": {
      "text/plain": [
       "True"
      ]
     },
     "execution_count": 88,
     "metadata": {},
     "output_type": "execute_result"
    }
   ],
   "source": [
    "len(x)==len(y)"
   ]
  },
  {
   "cell_type": "markdown",
   "id": "0b494ebf",
   "metadata": {},
   "source": [
    "Kovarian"
   ]
  },
  {
   "cell_type": "code",
   "execution_count": 89,
   "id": "07837f46",
   "metadata": {},
   "outputs": [
    {
     "data": {
      "text/plain": [
       "19.95"
      ]
     },
     "execution_count": 89,
     "metadata": {},
     "output_type": "execute_result"
    }
   ],
   "source": [
    "n = len(x)\n",
    "mean_x = np.mean(x)\n",
    "mean_y = np.mean(y)\n",
    "\n",
    "cov_xy = (sum((x[item]-mean_x)*(y[item]-mean_y) for item in range(n)))/(n-1)\n",
    "cov_xy"
   ]
  },
  {
   "cell_type": "code",
   "execution_count": 91,
   "id": "46708673",
   "metadata": {},
   "outputs": [
    {
     "data": {
      "text/plain": [
       "array([[38.5       , 19.95      ],\n",
       "       [19.95      , 13.91428571]])"
      ]
     },
     "execution_count": 91,
     "metadata": {},
     "output_type": "execute_result"
    }
   ],
   "source": [
    "cov_matrix = np.cov(x,y) #Kalo di matriks, liat diagonal non utama\n",
    "cov_matrix"
   ]
  },
  {
   "cell_type": "code",
   "execution_count": 92,
   "id": "e9fb2bd1",
   "metadata": {},
   "outputs": [
    {
     "data": {
      "text/plain": [
       "38.5"
      ]
     },
     "execution_count": 92,
     "metadata": {},
     "output_type": "execute_result"
    }
   ],
   "source": [
    "np.var(x,ddof=1)"
   ]
  },
  {
   "cell_type": "code",
   "execution_count": 93,
   "id": "700e76e9",
   "metadata": {},
   "outputs": [
    {
     "data": {
      "text/plain": [
       "13.914285714285711"
      ]
     },
     "execution_count": 93,
     "metadata": {},
     "output_type": "execute_result"
    }
   ],
   "source": [
    "np.var(y,ddof=1)"
   ]
  },
  {
   "cell_type": "code",
   "execution_count": 94,
   "id": "0df1bb0c",
   "metadata": {},
   "outputs": [
    {
     "data": {
      "text/plain": [
       "19.95"
      ]
     },
     "execution_count": 94,
     "metadata": {},
     "output_type": "execute_result"
    }
   ],
   "source": [
    "cov_xy = cov_matrix[0,1]\n",
    "cov_xy"
   ]
  },
  {
   "cell_type": "markdown",
   "id": "1541497f",
   "metadata": {},
   "source": [
    "Korelasi koefisien, $r_{xy} = \\frac{Cov(x,y)}{\\sigma_{x}\\sigma{y}}$"
   ]
  },
  {
   "cell_type": "code",
   "execution_count": 95,
   "id": "766c2d86",
   "metadata": {},
   "outputs": [
    {
     "data": {
      "text/plain": [
       "0.861950005631606"
      ]
     },
     "execution_count": 95,
     "metadata": {},
     "output_type": "execute_result"
    }
   ],
   "source": [
    "var_x = np.var(x,ddof=1)\n",
    "var_y = np.var(y,ddof=1)\n",
    "cov_xy\n",
    "std_x = np.std(x,ddof=1)\n",
    "std_y = np.std(y,ddof=1)\n",
    "r = cov_xy / (std_x*std_y)\n",
    "r"
   ]
  },
  {
   "cell_type": "code",
   "execution_count": 96,
   "id": "f0191b9e",
   "metadata": {},
   "outputs": [
    {
     "data": {
      "text/plain": [
       "0.861950005631606"
      ]
     },
     "execution_count": 96,
     "metadata": {},
     "output_type": "execute_result"
    }
   ],
   "source": [
    "xy_corr = scipy.stats.pearsonr(x,y).statistic\n",
    "xy_corr"
   ]
  },
  {
   "cell_type": "code",
   "execution_count": 97,
   "id": "67dbee49",
   "metadata": {},
   "outputs": [
    {
     "data": {
      "text/plain": [
       "array([[1.        , 0.86195001],\n",
       "       [0.86195001, 1.        ]])"
      ]
     },
     "execution_count": 97,
     "metadata": {},
     "output_type": "execute_result"
    }
   ],
   "source": [
    "corr_matrix = np.corrcoef(x,y)\n",
    "corr_matrix"
   ]
  },
  {
   "cell_type": "code",
   "execution_count": 98,
   "id": "eac4248b",
   "metadata": {},
   "outputs": [
    {
     "data": {
      "text/plain": [
       "0.861950005631606"
      ]
     },
     "execution_count": 98,
     "metadata": {},
     "output_type": "execute_result"
    }
   ],
   "source": [
    "scipy.stats.linregress(x,y).rvalue"
   ]
  },
  {
   "cell_type": "code",
   "execution_count": 99,
   "id": "4a44bfd5",
   "metadata": {},
   "outputs": [],
   "source": [
    "#Pada 2D Array\n",
    "a = np.array([[1,1,1],\n",
    "             [2,3,1],\n",
    "             [4,9,2],\n",
    "             [8,27,4],\n",
    "             [16,1,1]])"
   ]
  },
  {
   "cell_type": "code",
   "execution_count": 100,
   "id": "20970414",
   "metadata": {},
   "outputs": [
    {
     "data": {
      "text/plain": [
       "5.4"
      ]
     },
     "execution_count": 100,
     "metadata": {},
     "output_type": "execute_result"
    }
   ],
   "source": [
    "np.mean(a)"
   ]
  },
  {
   "cell_type": "code",
   "execution_count": 102,
   "id": "b92bbedb",
   "metadata": {},
   "outputs": [
    {
     "data": {
      "text/plain": [
       "2.0"
      ]
     },
     "execution_count": 102,
     "metadata": {},
     "output_type": "execute_result"
    }
   ],
   "source": [
    "np.median(a)"
   ]
  },
  {
   "cell_type": "code",
   "execution_count": 103,
   "id": "0a4bc71a",
   "metadata": {},
   "outputs": [
    {
     "data": {
      "text/plain": [
       "array([6.2, 8.2, 1.8])"
      ]
     },
     "execution_count": 103,
     "metadata": {},
     "output_type": "execute_result"
    }
   ],
   "source": [
    "np.mean(a,axis=0)"
   ]
  },
  {
   "cell_type": "code",
   "execution_count": 104,
   "id": "c3138056",
   "metadata": {},
   "outputs": [
    {
     "data": {
      "text/plain": [
       "array([ 1.,  2.,  5., 13.,  6.])"
      ]
     },
     "execution_count": 104,
     "metadata": {},
     "output_type": "execute_result"
    }
   ],
   "source": [
    "np.mean(a,axis=1)"
   ]
  },
  {
   "cell_type": "code",
   "execution_count": 105,
   "id": "7e736545",
   "metadata": {},
   "outputs": [
    {
     "data": {
      "text/plain": [
       "53.40000000000001"
      ]
     },
     "execution_count": 105,
     "metadata": {},
     "output_type": "execute_result"
    }
   ],
   "source": [
    "np.var(a,ddof=1)"
   ]
  },
  {
   "cell_type": "code",
   "execution_count": 106,
   "id": "31689ab6",
   "metadata": {},
   "outputs": [
    {
     "data": {
      "text/plain": [
       "array([ 37.2, 121.2,   1.7])"
      ]
     },
     "execution_count": 106,
     "metadata": {},
     "output_type": "execute_result"
    }
   ],
   "source": [
    "np.var(a,ddof=1,axis=0)"
   ]
  },
  {
   "cell_type": "code",
   "execution_count": 107,
   "id": "cfea5a0b",
   "metadata": {},
   "outputs": [
    {
     "data": {
      "text/html": [
       "<div>\n",
       "<style scoped>\n",
       "    .dataframe tbody tr th:only-of-type {\n",
       "        vertical-align: middle;\n",
       "    }\n",
       "\n",
       "    .dataframe tbody tr th {\n",
       "        vertical-align: top;\n",
       "    }\n",
       "\n",
       "    .dataframe thead th {\n",
       "        text-align: right;\n",
       "    }\n",
       "</style>\n",
       "<table border=\"1\" class=\"dataframe\">\n",
       "  <thead>\n",
       "    <tr style=\"text-align: right;\">\n",
       "      <th></th>\n",
       "      <th>A</th>\n",
       "      <th>B</th>\n",
       "      <th>C</th>\n",
       "    </tr>\n",
       "  </thead>\n",
       "  <tbody>\n",
       "    <tr>\n",
       "      <th>first</th>\n",
       "      <td>1</td>\n",
       "      <td>1</td>\n",
       "      <td>1</td>\n",
       "    </tr>\n",
       "    <tr>\n",
       "      <th>second</th>\n",
       "      <td>2</td>\n",
       "      <td>3</td>\n",
       "      <td>1</td>\n",
       "    </tr>\n",
       "    <tr>\n",
       "      <th>third</th>\n",
       "      <td>4</td>\n",
       "      <td>9</td>\n",
       "      <td>2</td>\n",
       "    </tr>\n",
       "    <tr>\n",
       "      <th>fourth</th>\n",
       "      <td>8</td>\n",
       "      <td>27</td>\n",
       "      <td>4</td>\n",
       "    </tr>\n",
       "    <tr>\n",
       "      <th>fifth</th>\n",
       "      <td>16</td>\n",
       "      <td>1</td>\n",
       "      <td>1</td>\n",
       "    </tr>\n",
       "  </tbody>\n",
       "</table>\n",
       "</div>"
      ],
      "text/plain": [
       "         A   B  C\n",
       "first    1   1  1\n",
       "second   2   3  1\n",
       "third    4   9  2\n",
       "fourth   8  27  4\n",
       "fifth   16   1  1"
      ]
     },
     "execution_count": 107,
     "metadata": {},
     "output_type": "execute_result"
    }
   ],
   "source": [
    "#Pada DataFrame\n",
    "row_names = ['first','second','third','fourth','fifth']\n",
    "col_names=['A','B','C']\n",
    "df = pd.DataFrame(a,index=row_names,columns=col_names)\n",
    "df"
   ]
  },
  {
   "cell_type": "code",
   "execution_count": 108,
   "id": "bbf0f833",
   "metadata": {},
   "outputs": [
    {
     "data": {
      "text/plain": [
       "6.2"
      ]
     },
     "execution_count": 108,
     "metadata": {},
     "output_type": "execute_result"
    }
   ],
   "source": [
    "np.mean(df.A)"
   ]
  },
  {
   "cell_type": "code",
   "execution_count": 109,
   "id": "b3d917e5",
   "metadata": {},
   "outputs": [
    {
     "data": {
      "text/plain": [
       "6.2"
      ]
     },
     "execution_count": 109,
     "metadata": {},
     "output_type": "execute_result"
    }
   ],
   "source": [
    "df['A'].mean()"
   ]
  },
  {
   "cell_type": "code",
   "execution_count": 110,
   "id": "728a1995",
   "metadata": {},
   "outputs": [
    {
     "data": {
      "text/plain": [
       "A     37.2\n",
       "B    121.2\n",
       "C      1.7\n",
       "dtype: float64"
      ]
     },
     "execution_count": 110,
     "metadata": {},
     "output_type": "execute_result"
    }
   ],
   "source": [
    "np.var(df,ddof=1)"
   ]
  },
  {
   "cell_type": "code",
   "execution_count": 111,
   "id": "298829b4",
   "metadata": {},
   "outputs": [
    {
     "data": {
      "text/plain": [
       "A     37.2\n",
       "B    121.2\n",
       "C      1.7\n",
       "dtype: float64"
      ]
     },
     "execution_count": 111,
     "metadata": {},
     "output_type": "execute_result"
    }
   ],
   "source": [
    "df.var()"
   ]
  },
  {
   "cell_type": "code",
   "execution_count": 112,
   "id": "8e7095eb",
   "metadata": {},
   "outputs": [
    {
     "data": {
      "text/plain": [
       "A    6.2\n",
       "B    8.2\n",
       "C    1.8\n",
       "dtype: float64"
      ]
     },
     "execution_count": 112,
     "metadata": {},
     "output_type": "execute_result"
    }
   ],
   "source": [
    "df.mean(axis=0)"
   ]
  },
  {
   "cell_type": "code",
   "execution_count": 113,
   "id": "875cda50",
   "metadata": {},
   "outputs": [
    {
     "data": {
      "text/plain": [
       "first      1.0\n",
       "second     2.0\n",
       "third      5.0\n",
       "fourth    13.0\n",
       "fifth      6.0\n",
       "dtype: float64"
      ]
     },
     "execution_count": 113,
     "metadata": {},
     "output_type": "execute_result"
    }
   ],
   "source": [
    "df.mean(axis=1)"
   ]
  }
 ],
 "metadata": {
  "kernelspec": {
   "display_name": "Python 3 (ipykernel)",
   "language": "python",
   "name": "python3"
  },
  "language_info": {
   "codemirror_mode": {
    "name": "ipython",
    "version": 3
   },
   "file_extension": ".py",
   "mimetype": "text/x-python",
   "name": "python",
   "nbconvert_exporter": "python",
   "pygments_lexer": "ipython3",
   "version": "3.9.13"
  }
 },
 "nbformat": 4,
 "nbformat_minor": 5
}
