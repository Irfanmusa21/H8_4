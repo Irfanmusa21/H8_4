{
 "cells": [
  {
   "cell_type": "markdown",
   "id": "95dced21",
   "metadata": {},
   "source": [
    "Sesi 1 Introduction python for data science Hacktive8"
   ]
  },
  {
   "cell_type": "code",
   "execution_count": 1,
   "id": "e8fd29b2",
   "metadata": {},
   "outputs": [
    {
     "name": "stdout",
     "output_type": "stream",
     "text": [
      "<class 'float'>\n",
      "<class 'int'>\n",
      "<class 'str'>\n",
      "<class 'bool'>\n"
     ]
    }
   ],
   "source": [
    "#Tipe data\n",
    "print(type(4.2e-7))\n",
    "print(type(4))\n",
    "print(type('nama saya'))\n",
    "print(type(True))"
   ]
  },
  {
   "cell_type": "markdown",
   "id": "6ce9b2cd",
   "metadata": {},
   "source": [
    "Ctrl + / untuk comment <br>\n",
    "Variabel gaboleh diawali dengan angka, contoh 0_rumah"
   ]
  },
  {
   "cell_type": "code",
   "execution_count": 2,
   "id": "0357e242",
   "metadata": {},
   "outputs": [
    {
     "name": "stdout",
     "output_type": "stream",
     "text": [
      "jakarta Jogja\n"
     ]
    }
   ],
   "source": [
    "#Variabel\n",
    "rumah = 'jakarta'\n",
    "Rumah = 'Jogja'\n",
    "print(rumah, Rumah)"
   ]
  },
  {
   "cell_type": "code",
   "execution_count": 3,
   "id": "ce6beca8",
   "metadata": {},
   "outputs": [
    {
     "name": "stdout",
     "output_type": "stream",
     "text": [
      "5 1 6 1.5 1 1 1\n",
      "False\n",
      "False\n",
      "True\n",
      "True\n",
      "2\n",
      "4\n",
      "4\n",
      "3\n",
      "3\n",
      "2\n",
      "5\n",
      "2\n"
     ]
    }
   ],
   "source": [
    "#Aritmatika\n",
    "a = 3\n",
    "b = 2\n",
    "c = 4\n",
    "d = 5\n",
    "print(a+b, a-b, a*b, a/b, a//b, a%b, a^b ) \n",
    "print(a==b)\n",
    "print(a>c)\n",
    "print(b<c)\n",
    "print(a!=b)\n",
    "print(a and b)\n",
    "print(a and c)\n",
    "print(b and c)\n",
    "print(a or c)\n",
    "print(a or b)\n",
    "print(b or c)\n",
    "print(b and d)\n",
    "print (d and b)"
   ]
  },
  {
   "cell_type": "markdown",
   "id": "c3ca7e2f",
   "metadata": {},
   "source": [
    "Comparison (<,>,=, $\\neq$) berlaku juga untuk string"
   ]
  },
  {
   "cell_type": "code",
   "execution_count": 4,
   "id": "30f1729c",
   "metadata": {},
   "outputs": [
    {
     "name": "stdout",
     "output_type": "stream",
     "text": [
      "True\n",
      "False\n",
      "foobar foofoofoo\n"
     ]
    }
   ],
   "source": [
    "#Perbandingan\n",
    "s = 'foo'\n",
    "t = 'bar'\n",
    "b = 'buah'\n",
    "print(b in 'saya ingin buah')\n",
    "print(b in 'saya mau singkong')\n",
    "\n",
    "print(s+t, s*3)"
   ]
  },
  {
   "cell_type": "code",
   "execution_count": 5,
   "id": "f743e8f1",
   "metadata": {},
   "outputs": [
    {
     "name": "stdout",
     "output_type": "stream",
     "text": [
      "AKU CINTA\n",
      "aku cinta\n",
      "AkU cINtA\n",
      "Aku cinta\n",
      "Aku Cinta\n"
     ]
    }
   ],
   "source": [
    "#Manipulasi string  \n",
    "c = 'aKu CinTa'\n",
    "print(c.upper())\n",
    "print(c.lower())\n",
    "print(c.swapcase())\n",
    "print(c.capitalize())\n",
    "print(c.title())"
   ]
  },
  {
   "cell_type": "markdown",
   "id": "3f2fe5ce",
   "metadata": {},
   "source": [
    "List bisa diisikan tipe data yang berbeda <br> list konsepnya [mulai:stop:step]"
   ]
  },
  {
   "cell_type": "code",
   "execution_count": 6,
   "id": "56a1e8d3",
   "metadata": {},
   "outputs": [
    {
     "name": "stdout",
     "output_type": "stream",
     "text": [
      "['buah', 4, False, 9.8]\n",
      "False 4 buah\n",
      "d\n",
      "[4, False, 9.8]\n",
      "ud\n",
      "[4, False, 9.8]\n",
      "[False]\n"
     ]
    }
   ],
   "source": [
    "#List\n",
    "a = ['buah', 4, False, 9.8]\n",
    "c = 'budi'\n",
    "print(a)\n",
    "print(a[2], a[1], a[-4])\n",
    "print(c[2])\n",
    "print(a[1:4])\n",
    "print(c[1:3])\n",
    "print(a[1:]) #ketika indeks jumlahnya sangat besar, sampe paling ujung\n",
    "print(a[2:-1])"
   ]
  },
  {
   "cell_type": "code",
   "execution_count": 7,
   "id": "b5a26088",
   "metadata": {},
   "outputs": [
    {
     "name": "stdout",
     "output_type": "stream",
     "text": [
      "7\n",
      "i\n",
      "omi\n",
      "tmen\n",
      "kmte\n",
      "kmtn\n",
      "kmtn\n"
     ]
    }
   ],
   "source": [
    "a = 'komitmen'\n",
    "print(a.index('n'))\n",
    "print(a[3])\n",
    "print(a[1:4])\n",
    "print(a[4: ])\n",
    "print(a[0 : : 2])\n",
    "print(a[ : 6 : 2] + a[-1])\n",
    "print(a[0]+a[2]+a[4]+a[7])"
   ]
  },
  {
   "cell_type": "code",
   "execution_count": 8,
   "id": "2ae25b72",
   "metadata": {},
   "outputs": [
    {
     "name": "stdout",
     "output_type": "stream",
     "text": [
      "['buah', False, 9.8]\n",
      "['buah', False, 'tumbuhan']\n",
      "['buah', False, 'tumbuhan', 'minum']\n",
      "[False, 'tumbuhan', 'minum']\n"
     ]
    }
   ],
   "source": [
    "#Modifikasi list\n",
    "a = ['buah', 4, False, 9.8]\n",
    "a[1] = 'hewan'\n",
    "a.append ('makan') #selalu jadi indeks terakhir\n",
    "a.pop() #delete indeks terakhir, inputnya indeks\n",
    "a.pop(1) #delete indeks 1\n",
    "print(a)\n",
    "a [2:] = ['manusia', 'tumbuhan']\n",
    "del a[2]\n",
    "print(a)\n",
    "b = a.copy()\n",
    "b.append('minum')\n",
    "print(b)\n",
    "b.remove('buah') #delete indeks terakhir, inputnya string\n",
    "print(b)"
   ]
  },
  {
   "cell_type": "markdown",
   "id": "ff86426c",
   "metadata": {},
   "source": [
    "Tuple gabisa di replace dan lebih ringan prosesnya"
   ]
  },
  {
   "cell_type": "code",
   "execution_count": 10,
   "id": "63601430",
   "metadata": {},
   "outputs": [
    {
     "name": "stdout",
     "output_type": "stream",
     "text": [
      "('buah', 4, False, 9.8)\n"
     ]
    }
   ],
   "source": [
    "#Tuple\n",
    "a = ('buah', 4, False, 9.8)\n",
    "\n",
    "print(a)"
   ]
  },
  {
   "cell_type": "markdown",
   "id": "c05e9a0e",
   "metadata": {},
   "source": [
    "Dictionary itu list berpasangan"
   ]
  },
  {
   "cell_type": "code",
   "execution_count": 11,
   "id": "3c5828da",
   "metadata": {},
   "outputs": [
    {
     "name": "stdout",
     "output_type": "stream",
     "text": [
      "Rockies\n",
      "{'Colorado': 'Rockies', 'Boston': 'Red Shock', 'Kansas City': 'Kansas'}\n",
      "{'Boston': 'Red Shock', 'Kansas City': 'Kansas'}\n"
     ]
    }
   ],
   "source": [
    "MLB_team = {'Colorado' : 'Rockies',\n",
    "            'Boston' : 'Red Shock'}\n",
    "print(MLB_team['Colorado'])\n",
    "MLB_team['Kansas City'] = 'Kansas'\n",
    "print(MLB_team)\n",
    "del MLB_team['Colorado']\n",
    "print(MLB_team)"
   ]
  },
  {
   "cell_type": "markdown",
   "id": "b43f30c3",
   "metadata": {},
   "source": [
    "**Materi Tambahan**"
   ]
  },
  {
   "cell_type": "code",
   "execution_count": 12,
   "id": "50cc8f91",
   "metadata": {},
   "outputs": [
    {
     "name": "stdout",
     "output_type": "stream",
     "text": [
      "['Toyota', 'Kijang', 'Isuzu']\n"
     ]
    }
   ],
   "source": [
    "mobil = ['Toyota','Kijang']\n",
    "mobil = mobil + ['Isuzu']\n",
    "print(mobil)"
   ]
  },
  {
   "cell_type": "code",
   "execution_count": 13,
   "id": "0e941c92",
   "metadata": {},
   "outputs": [
    {
     "name": "stdout",
     "output_type": "stream",
     "text": [
      "['Toyota', 'Kijang', 'Isuzu']\n"
     ]
    }
   ],
   "source": [
    "mobil = ['Toyota','Kijang']\n",
    "mobil.append('Isuzu')\n",
    "print(mobil)"
   ]
  },
  {
   "cell_type": "code",
   "execution_count": 14,
   "id": "7ff00e04",
   "metadata": {},
   "outputs": [
    {
     "name": "stdout",
     "output_type": "stream",
     "text": [
      "['Toyota', 'Kijang', 'Isuzu']\n"
     ]
    }
   ],
   "source": [
    "kendaraan = mobil.copy()\n",
    "print(kendaraan)"
   ]
  },
  {
   "cell_type": "code",
   "execution_count": 16,
   "id": "1e9312f5",
   "metadata": {},
   "outputs": [
    {
     "name": "stdout",
     "output_type": "stream",
     "text": [
      "['Toyota', 'Kijang', 'Isuzu', 'Innova', 'Innova']\n",
      "['Toyota', 'Kijang', 'Isuzu']\n",
      "['Toyota', 'Kijang', 'Isuzu', 'Innova']\n"
     ]
    }
   ],
   "source": [
    "kendaraan.append('Innova')\n",
    "\n",
    "print(kendaraan)\n",
    "print(mobil)\n",
    "\n",
    "kendaraan.remove('Innova')\n",
    "print(kendaraan)"
   ]
  },
  {
   "cell_type": "code",
   "execution_count": 17,
   "id": "c5d55901",
   "metadata": {},
   "outputs": [
    {
     "name": "stdout",
     "output_type": "stream",
     "text": [
      "['Pisang', 'Apel']\n"
     ]
    }
   ],
   "source": [
    "buah = ['Pisang','Jeruk','Apel']\n",
    "buah.pop(1)\n",
    "print(buah)"
   ]
  }
 ],
 "metadata": {
  "kernelspec": {
   "display_name": "Python 3 (ipykernel)",
   "language": "python",
   "name": "python3"
  },
  "language_info": {
   "codemirror_mode": {
    "name": "ipython",
    "version": 3
   },
   "file_extension": ".py",
   "mimetype": "text/x-python",
   "name": "python",
   "nbconvert_exporter": "python",
   "pygments_lexer": "ipython3",
   "version": "3.9.13"
  }
 },
 "nbformat": 4,
 "nbformat_minor": 5
}
